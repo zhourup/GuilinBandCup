{
 "cells": [
  {
   "cell_type": "code",
   "execution_count": 7,
   "metadata": {
    "ExecuteTime": {
     "end_time": "2021-05-29T18:04:25.931107Z",
     "start_time": "2021-05-29T18:04:25.796936Z"
    },
    "scrolled": true
   },
   "outputs": [
    {
     "name": "stdout",
     "output_type": "stream",
     "text": [
      "      x_cat1    x_num1  train_x_num1  train_x_num2  train_x_num3  \\\n",
      "0        493    800.96     398911.62          2685     181357.00   \n",
      "1        338    787.11     216283.59            73       5752.26   \n",
      "2        497    103.34     406064.07           643     209320.49   \n",
      "3        410   1945.16    3210994.78            49     909792.51   \n",
      "4        493   4162.45      74722.10           525      11257.48   \n",
      "...      ...       ...           ...           ...           ...   \n",
      "8368     493   4032.79     427593.47           106      85984.16   \n",
      "8369     294     19.86     844658.51            55      42139.60   \n",
      "8370     219  29518.26   21389551.56           397    7610795.48   \n",
      "8371     489      0.00      35800.20            14     184740.30   \n",
      "8372     410   1390.45   16075578.85           450    1812817.04   \n",
      "\n",
      "      train_x_num4  train_x_num5  train_x_num6  train_x_num7  train_x_num8  \\\n",
      "0             57.0          19.0         114.0        2495.0       35600.0   \n",
      "1              0.0           0.0           6.0          67.0           0.0   \n",
      "2              4.0           4.0          45.0         590.0       15500.0   \n",
      "3              0.0           0.0          27.0          22.0           0.0   \n",
      "4              0.0           0.0          17.0         508.0           0.0   \n",
      "...            ...           ...           ...           ...           ...   \n",
      "8368           2.0           2.0          34.0          68.0        3800.0   \n",
      "8369           0.0           0.0          11.0          44.0           0.0   \n",
      "8370           0.0           0.0         176.0         221.0           0.0   \n",
      "8371           0.0           0.0           9.0           5.0           0.0   \n",
      "8372          17.0          12.0          68.0         353.0      287000.0   \n",
      "\n",
      "      ...  train_x_num17  train_x_num18  train_x_num19  train_x_num20  \\\n",
      "0     ...        2240.97           0.00       13245.15            4.0   \n",
      "1     ...          44.40           0.00           0.00            1.0   \n",
      "2     ...        1287.70       70100.00       12990.72            2.0   \n",
      "3     ...           0.00      427200.00       80766.00            2.0   \n",
      "4     ...           0.00        1119.00           0.00            1.0   \n",
      "...   ...            ...            ...            ...            ...   \n",
      "8368  ...          99.00           0.00        7800.00            2.0   \n",
      "8369  ...           0.00       10165.94           0.00            2.0   \n",
      "8370  ...           0.00     3122011.57           0.00            8.0   \n",
      "8371  ...           0.00       95640.30           0.00            5.0   \n",
      "8372  ...        8332.00      762098.17       13000.00            4.0   \n",
      "\n",
      "      train_x_num21  train_x_num22  train_x_num23  cards_x_cat2  \\\n",
      "0              20.0       0.693068       3.250291             0   \n",
      "1               3.0       0.314627       0.629253             0   \n",
      "2               9.0       0.423535       1.496690             0   \n",
      "3               3.0       0.565107       0.683061             0   \n",
      "4               5.0       0.254151       0.966710             0   \n",
      "...             ...            ...            ...           ...   \n",
      "8368            3.0       0.557372       0.765188             0   \n",
      "8369            4.0       0.566947       1.199647             0   \n",
      "8370           15.0       1.534037       3.130972             0   \n",
      "8371            3.0       0.707107       0.707107             1   \n",
      "8372            8.0       0.708201       1.152363             0   \n",
      "\n",
      "      cards_x_date1  label  \n",
      "0      1.228608e+09      0  \n",
      "1      1.229213e+09      0  \n",
      "2      1.216858e+09      0  \n",
      "3      1.230422e+09      0  \n",
      "4      1.207613e+09      0  \n",
      "...             ...    ...  \n",
      "8368   1.225238e+09      0  \n",
      "8369   1.210723e+09      0  \n",
      "8370   1.213920e+09      0  \n",
      "8371   1.289779e+09      1  \n",
      "8372   1.230422e+09      0  \n",
      "\n",
      "[8373 rows x 28 columns]\n"
     ]
    }
   ],
   "source": [
    "# 数据存储文件夹  /data/\n",
    "# eg /data/tran_train.csv\n",
    "# from sklearn.metrics import roc_auc_score\n",
    "import pandas as pd\n",
    "from datetime import datetime\n",
    "# import numpy as np\n",
    "\n",
    "acct_train=pd.read_csv(\"/data/acct_train.csv\")\n",
    "cust_train=pd.read_csv(\"/data/cust_train.csv\")\n",
    "tran_train=pd.read_csv(\"/data/tran_train.csv\")\n",
    "cards_train=pd.read_csv(\"/data/cards_train.csv\")\n",
    "acct_test=pd.read_csv(\"/data/acct_test.csv\")\n",
    "tran_test=pd.read_csv(\"/data/tran_test.csv\")\n",
    "cards_test=pd.read_csv(\"/data/cards_test.csv\")\n",
    "\n",
    "#处理训练数据集部分,并生成训练数据集 \n",
    "data=pd.DataFrame(acct_train)\n",
    "# 删除acct_train的两行脏数据\n",
    "data=data.drop(index=568)\n",
    "data=data.drop(index=862)\n",
    "data.index=range(len(data))\n",
    "x_cat1=data['x_cat1']\n",
    "x_num1=data['x_num1']\n",
    "label=data['label']\n",
    "\n",
    "tran_train=tran_train.fillna(0)\n",
    "train_x_num1=tran_train['x_num1']\n",
    "train_x_num2=tran_train['x_num2']\n",
    "train_x_num3=tran_train['x_num3']\n",
    "train_x_num4=tran_train['x_num4']\n",
    "train_x_num5=tran_train['x_num5']\n",
    "train_x_num6=tran_train['x_num6']\n",
    "train_x_num7=tran_train['x_num7']\n",
    "train_x_num8=tran_train['x_num8']\n",
    "train_x_num9=tran_train['x_num9']\n",
    "train_x_num10=tran_train['x_num10']\n",
    "train_x_num11=tran_train['x_num11']\n",
    "train_x_num12=tran_train['x_num12']\n",
    "train_x_num13=tran_train['x_num13']\n",
    "train_x_num14=tran_train['x_num14']\n",
    "train_x_num15=tran_train['x_num15']\n",
    "train_x_num16=tran_train['x_num16']\n",
    "train_x_num17=tran_train['x_num17']\n",
    "train_x_num18=tran_train['x_num18']\n",
    "train_x_num19=tran_train['x_num19']\n",
    "train_x_num20=tran_train['x_num20']\n",
    "train_x_num21=tran_train['x_num21']\n",
    "train_x_num22=tran_train['x_num22']\n",
    "train_x_num23=tran_train['x_num23']\n",
    "\n",
    "\n",
    "cards_data=pd.DataFrame(cards_train)\n",
    "cards_data=cards_data.drop(index=568)\n",
    "cards_data=cards_data.drop(index=862)\n",
    "cards_data.index=range(len(cards_data))\n",
    "cards_x_cat2=cards_data['x_cat2']\n",
    "x_date1=cards_data['x_date1']\n",
    "times=[]\n",
    "for i in range(0,len(x_date1)):\n",
    "    time = x_date1[i]\n",
    "    temp = datetime.fromisoformat(time).timestamp()\n",
    "    times.append(temp)\n",
    "\n",
    "res={\"x_cat1\": x_cat1, \"x_num1\": x_num1, \"train_x_num1\": train_x_num1, \"train_x_num2\": train_x_num2,\n",
    "       \"train_x_num3\": train_x_num3, \"train_x_num4\": train_x_num4, \"train_x_num5\": train_x_num5,\n",
    "       \"train_x_num6\": train_x_num6, \"train_x_num7\": train_x_num7, \"train_x_num8\": train_x_num8,\n",
    "       \"train_x_num9\": train_x_num9, \"train_x_num10\": train_x_num10, \"train_x_num11\": train_x_num11,\n",
    "       \"train_x_num12\": train_x_num12, \"train_x_num13\": train_x_num13, \"train_x_num14\": train_x_num14,\n",
    "       \"train_x_num15\": train_x_num15, \"train_x_num16\": train_x_num16, \"train_x_num17\": train_x_num17,\n",
    "       \"train_x_num18\": train_x_num18, \"train_x_num19\": train_x_num19, \"train_x_num20\": train_x_num20,\n",
    "       \"train_x_num21\": train_x_num21, \"train_x_num22\": train_x_num22, \"train_x_num23\": train_x_num23,\n",
    "       \"cards_x_cat2\": cards_x_cat2, \"cards_x_date1\": times,\n",
    "       \"label\": label}\n",
    "\n",
    "res_data=pd.DataFrame(res)\n",
    "res_data.to_csv(\"./data_train10.csv\", index=0)\n",
    "\n",
    "# data=pd.read_csv(\"./data_train10.csv\")\n",
    "# print(data)\n",
    "\n"
   ]
  },
  {
   "cell_type": "code",
   "execution_count": 93,
   "metadata": {
    "ExecuteTime": {
     "end_time": "2021-05-29T17:55:31.752364Z",
     "start_time": "2021-05-29T17:55:31.719507Z"
    }
   },
   "outputs": [
    {
     "name": "stdout",
     "output_type": "stream",
     "text": [
      "      x_cat1      x_num1  train_x_num1  train_x_num2  train_x_num3  \\\n",
      "0        267      237.72     283958.72           452      98751.61   \n",
      "1        284      318.59    1958039.19            68     331716.57   \n",
      "2        280       46.03      82493.76           129     967378.61   \n",
      "3        219        0.00    2617586.58            48      15488.20   \n",
      "4        445     3149.00     674299.09           460      77914.75   \n",
      "...      ...         ...           ...           ...           ...   \n",
      "2491     332      380.00    1920445.98           221     791622.73   \n",
      "2492     396  1104240.20    7852071.87            93     884025.31   \n",
      "2493     443     7762.38    4964304.25            76     615814.57   \n",
      "2494     288     1140.96     899095.42            39      51245.37   \n",
      "2495     240   119618.63   26906760.48            54    1773222.69   \n",
      "\n",
      "      train_x_num4  train_x_num5  train_x_num6  train_x_num7  train_x_num8  \\\n",
      "0              0.0           0.0          55.0         397.0           0.0   \n",
      "1              0.0           0.0          33.0          35.0           0.0   \n",
      "2              5.0           0.0          54.0          70.0        1000.0   \n",
      "3              0.0           0.0          11.0          37.0           0.0   \n",
      "4              0.0           0.0          24.0         436.0           0.0   \n",
      "...            ...           ...           ...           ...           ...   \n",
      "2491           1.0           2.0          64.0         154.0       10000.0   \n",
      "2492           0.0           0.0          80.0          13.0           0.0   \n",
      "2493           2.0           0.0          26.0          48.0       21400.0   \n",
      "2494           0.0           0.0           6.0          33.0           0.0   \n",
      "2495           0.0           0.0          14.0          40.0           0.0   \n",
      "\n",
      "      ...  train_x_num17  train_x_num18  train_x_num19  train_x_num20  \\\n",
      "0     ...         417.88            0.0       45325.10            3.0   \n",
      "1     ...           0.00        90000.0       30000.00            2.0   \n",
      "2     ...          37.00       469848.0        2431.00           37.0   \n",
      "3     ...           0.00            0.0          30.00            2.0   \n",
      "4     ...         321.50         5400.0        1127.16            2.0   \n",
      "...   ...            ...            ...            ...            ...   \n",
      "2491  ...        1033.40       124008.0        6180.00            5.0   \n",
      "2492  ...           0.00       320000.0           0.00            2.0   \n",
      "2493  ...           0.00       159200.0       50000.00            2.0   \n",
      "2494  ...           0.00         3130.0           0.00            1.0   \n",
      "2495  ...           0.00       535000.0      300000.00            4.0   \n",
      "\n",
      "      train_x_num21  train_x_num22  train_x_num23  cards_x_cat2  \\\n",
      "0              14.0       0.577350       2.094991             0   \n",
      "1               2.0       0.511828       0.573885             0   \n",
      "2              36.0       6.860187       6.608076             0   \n",
      "3              10.0       0.597614       2.056033             0   \n",
      "4              15.0       0.344666       2.423200             0   \n",
      "...             ...            ...            ...           ...   \n",
      "2491            6.0       0.794448       0.981332             0   \n",
      "2492            1.0       0.375318       0.373149             0   \n",
      "2493            2.0       0.564912       0.486989             0   \n",
      "2494            2.0       0.373684       0.393262             0   \n",
      "2495            4.0       0.742938       0.873203             0   \n",
      "\n",
      "      cards_x_date1  label  \n",
      "0      1.226275e+09      0  \n",
      "1      1.221091e+09      0  \n",
      "2      1.314058e+09      0  \n",
      "3      1.205539e+09      0  \n",
      "4      1.212538e+09      0  \n",
      "...             ...    ...  \n",
      "2491   1.206835e+09      0  \n",
      "2492   1.218758e+09      0  \n",
      "2493   1.208909e+09      0  \n",
      "2494   1.221782e+09      0  \n",
      "2495   1.417133e+09      0  \n",
      "\n",
      "[2496 rows x 28 columns]\n"
     ]
    }
   ],
   "source": [
    "#处理测试数据集部分,并生成测试数据集文件 \n",
    "import pandas as pd\n",
    "from datetime import datetime\n",
    "\n",
    "test_x_cat1=acct_test['x_cat1']\n",
    "test_x_num1=acct_test['x_num1']\n",
    "\n",
    "tran_test=tran_test.fillna(0)\n",
    "test_train_x_num1=tran_test['x_num1']\n",
    "test_x_num2=tran_test['x_num2']\n",
    "test_x_num3=tran_test['x_num3']\n",
    "test_x_num4=tran_test['x_num4']\n",
    "test_x_num5=tran_test['x_num5']\n",
    "test_x_num6=tran_test['x_num6']\n",
    "test_x_num7=tran_test['x_num7']\n",
    "test_x_num8=tran_test['x_num8']\n",
    "test_x_num9=tran_test['x_num9']\n",
    "test_x_num10=tran_test['x_num10']\n",
    "test_x_num11=tran_test['x_num11']\n",
    "test_x_num12=tran_test['x_num12']\n",
    "test_x_num13=tran_test['x_num13']\n",
    "test_x_num14=tran_test['x_num14']\n",
    "test_x_num15=tran_test['x_num15']\n",
    "test_x_num16=tran_test['x_num16']\n",
    "test_x_num17=tran_test['x_num17']\n",
    "test_x_num18=tran_test['x_num18']\n",
    "test_x_num19=tran_test['x_num19']\n",
    "test_x_num20=tran_test['x_num20']\n",
    "test_x_num21=tran_test['x_num21']\n",
    "test_x_num22=tran_test['x_num22']\n",
    "test_x_num23=tran_test['x_num23']\n",
    "\n",
    "test_x_cat2=cards_test['x_cat2']\n",
    "test_x_date1=cards_test['x_date1']\n",
    "\n",
    "test_times=[]\n",
    "for i in range(0,len(test_x_date1)):\n",
    "    time = test_x_date1[i]\n",
    "    temp = datetime.fromisoformat(time).timestamp()\n",
    "    test_times.append(temp)\n",
    "test_label=[]\n",
    "for i in range(0, len(test_times)):\n",
    "    test_label.append(0)\n",
    "\n",
    "test_res={\"x_cat1\": test_x_cat1, \"x_num1\": test_x_num1, \"train_x_num1\": test_train_x_num1, \"train_x_num2\": test_x_num2,\n",
    "       \"train_x_num3\": test_x_num3, \"train_x_num4\": test_x_num4, \"train_x_num5\": test_x_num5,\n",
    "       \"train_x_num6\": test_x_num6, \"train_x_num7\": test_x_num7, \"train_x_num8\": test_x_num8,\n",
    "       \"train_x_num9\": test_x_num9, \"train_x_num10\": test_x_num10, \"train_x_num11\": test_x_num11,\n",
    "       \"train_x_num12\": test_x_num12, \"train_x_num13\": test_x_num13, \"train_x_num14\": test_x_num14,\n",
    "       \"train_x_num15\": test_x_num15, \"train_x_num16\": test_x_num16, \"train_x_num17\": test_x_num17,\n",
    "       \"train_x_num18\": test_x_num18, \"train_x_num19\": test_x_num19, \"train_x_num20\": test_x_num20,\n",
    "       \"train_x_num21\": test_x_num21, \"train_x_num22\": test_x_num22, \"train_x_num23\": test_x_num23,\n",
    "       \"cards_x_cat2\": test_x_cat2, \"cards_x_date1\": test_times,\n",
    "       \"label\": test_label}    \n",
    "test_res_data=pd.DataFrame(test_res)\n",
    "test_res_data.to_csv(\"./data_test10.csv\", index=0)\n",
    "\n",
    "# data=pd.read_csv(\"./data_test10.csv\")\n",
    "# print(data)\n"
   ]
  },
  {
   "cell_type": "code",
   "execution_count": 11,
   "metadata": {
    "ExecuteTime": {
     "end_time": "2021-05-29T12:15:50.583301Z",
     "start_time": "2021-05-29T12:15:50.571026Z"
    }
   },
   "outputs": [],
   "source": [
    "# 团队共享文件夹  /home/jovyan/team_share/"
   ]
  },
  {
   "cell_type": "code",
   "execution_count": 12,
   "metadata": {
    "ExecuteTime": {
     "end_time": "2021-05-29T12:15:50.600013Z",
     "start_time": "2021-05-29T12:15:50.585689Z"
    }
   },
   "outputs": [],
   "source": [
    "# import pandas as pd\n",
    "\n",
    "# data_train=pd.read_csv(\"/home/jovyan/team_share/data.csv\")\n",
    "# print(data_train)\n",
    "\n",
    "\n"
   ]
  },
  {
   "cell_type": "code",
   "execution_count": 15,
   "metadata": {
    "ExecuteTime": {
     "end_time": "2021-05-29T12:16:09.908908Z",
     "start_time": "2021-05-29T12:16:09.905119Z"
    }
   },
   "outputs": [
    {
     "ename": "SyntaxError",
     "evalue": "invalid syntax (<ipython-input-15-972b14187036>, line 3)",
     "output_type": "error",
     "traceback": [
      "\u001b[0;36m  File \u001b[0;32m\"<ipython-input-15-972b14187036>\"\u001b[0;36m, line \u001b[0;32m3\u001b[0m\n\u001b[0;31m    pip install torch torchvision -i  https://pypi.mirrors.ustc.edu.cn/simple\u001b[0m\n\u001b[0m        ^\u001b[0m\n\u001b[0;31mSyntaxError\u001b[0m\u001b[0;31m:\u001b[0m invalid syntax\n"
     ]
    }
   ],
   "source": [
    "# pip install lightgbm\n",
    "\n",
    "# pip install torch torchvision -i  https://pypi.mirrors.ustc.edu.cn/simple"
   ]
  },
  {
   "cell_type": "code",
   "execution_count": 16,
   "metadata": {
    "ExecuteTime": {
     "end_time": "2021-05-29T12:16:44.932857Z",
     "start_time": "2021-05-29T12:16:31.707831Z"
    }
   },
   "outputs": [
    {
     "name": "stdout",
     "output_type": "stream",
     "text": [
      "\u001b[33mWARNING: Value for scheme.headers does not match. Please report this to <https://github.com/pypa/pip/issues/9617>\n",
      "distutils: /opt/conda/include/python3.8/UNKNOWN\n",
      "sysconfig: /opt/conda/include/python3.8\u001b[0m\n",
      "\u001b[33mWARNING: Additional context:\n",
      "user = False\n",
      "home = None\n",
      "root = None\n",
      "prefix = None\u001b[0m\n",
      "Looking in indexes: https://pypi.mirrors.ustc.edu.cn/simple\n",
      "Collecting torch\n",
      "Note: you may need to restart the kernel to use updated packages.\n"
     ]
    }
   ],
   "source": [
    "# pip install torch torchvision -i  https://pypi.mirrors.ustc.edu.cn/simple"
   ]
  },
  {
   "cell_type": "code",
   "execution_count": 3,
   "metadata": {
    "ExecuteTime": {
     "end_time": "2021-05-29T18:02:34.449322Z",
     "start_time": "2021-05-29T18:02:01.719829Z"
    }
   },
   "outputs": [
    {
     "name": "stdout",
     "output_type": "stream",
     "text": [
      "\u001b[33mWARNING: Value for scheme.headers does not match. Please report this to <https://github.com/pypa/pip/issues/9617>\n",
      "distutils: /opt/conda/include/python3.8/UNKNOWN\n",
      "sysconfig: /opt/conda/include/python3.8\u001b[0m\n",
      "\u001b[33mWARNING: Additional context:\n",
      "user = False\n",
      "home = None\n",
      "root = None\n",
      "prefix = None\u001b[0m\n",
      "Looking in indexes: https://pypi.mirrors.ustc.edu.cn/simple\n",
      "Collecting torch\n",
      "  Using cached https://mirrors.bfsu.edu.cn/pypi/web/packages/1b/c3/3b94d22b156742ac90eaffa0b2025e948cf935c4b206db5a813657c0de49/torch-1.8.1-cp38-cp38-manylinux1_x86_64.whl (804.1 MB)\n",
      "Collecting torchvision\n",
      "  Using cached https://mirrors.bfsu.edu.cn/pypi/web/packages/8a/ff/a5f5206ffc629b4536a54105214721249e2240416d78089dc01c63d00f50/torchvision-0.9.1-cp38-cp38-manylinux1_x86_64.whl (17.4 MB)\n",
      "Requirement already satisfied: typing-extensions in /opt/conda/lib/python3.8/site-packages (from torch) (3.7.4.3)\n",
      "Requirement already satisfied: numpy in /opt/conda/lib/python3.8/site-packages (from torch) (1.20.2)\n",
      "Requirement already satisfied: pillow>=4.1.1 in /opt/conda/lib/python3.8/site-packages (from torchvision) (8.1.2)\n",
      "Installing collected packages: torch, torchvision\n",
      "\u001b[33mWARNING: Value for scheme.headers does not match. Please report this to <https://github.com/pypa/pip/issues/9617>\n",
      "distutils: /opt/conda/include/python3.8/UNKNOWN\n",
      "sysconfig: /opt/conda/include/python3.8\u001b[0m\n",
      "\u001b[33mWARNING: Additional context:\n",
      "user = False\n",
      "home = None\n",
      "root = None\n",
      "prefix = None\u001b[0m\n",
      "Successfully installed torch-1.8.1 torchvision-0.9.1\n",
      "\u001b[33mWARNING: You are using pip version 21.1; however, version 21.1.2 is available.\n",
      "You should consider upgrading via the '/opt/conda/bin/python -m pip install --upgrade pip' command.\u001b[0m\n",
      "Note: you may need to restart the kernel to use updated packages.\n"
     ]
    }
   ],
   "source": [
    "pip install torch torchvision -i  https://pypi.mirrors.ustc.edu.cn/simple"
   ]
  },
  {
   "cell_type": "code",
   "execution_count": 2,
   "metadata": {
    "ExecuteTime": {
     "end_time": "2021-05-29T18:01:58.330179Z",
     "start_time": "2021-05-29T18:01:55.840915Z"
    }
   },
   "outputs": [
    {
     "name": "stdout",
     "output_type": "stream",
     "text": [
      "\u001b[33mWARNING: Value for scheme.headers does not match. Please report this to <https://github.com/pypa/pip/issues/9617>\n",
      "distutils: /opt/conda/include/python3.8/UNKNOWN\n",
      "sysconfig: /opt/conda/include/python3.8\u001b[0m\n",
      "\u001b[33mWARNING: Additional context:\n",
      "user = False\n",
      "home = None\n",
      "root = None\n",
      "prefix = None\u001b[0m\n",
      "Collecting lightgbm\n",
      "  Using cached lightgbm-3.2.1-py3-none-manylinux1_x86_64.whl (2.0 MB)\n",
      "Requirement already satisfied: numpy in /opt/conda/lib/python3.8/site-packages (from lightgbm) (1.20.2)\n",
      "Requirement already satisfied: scipy in /opt/conda/lib/python3.8/site-packages (from lightgbm) (1.6.2)\n",
      "Requirement already satisfied: wheel in /opt/conda/lib/python3.8/site-packages (from lightgbm) (0.36.2)\n",
      "Requirement already satisfied: scikit-learn!=0.22.0 in /opt/conda/lib/python3.8/site-packages (from lightgbm) (0.24.1)\n",
      "Requirement already satisfied: threadpoolctl>=2.0.0 in /opt/conda/lib/python3.8/site-packages (from scikit-learn!=0.22.0->lightgbm) (2.1.0)\n",
      "Requirement already satisfied: joblib>=0.11 in /opt/conda/lib/python3.8/site-packages (from scikit-learn!=0.22.0->lightgbm) (1.0.1)\n",
      "Installing collected packages: lightgbm\n",
      "\u001b[33mWARNING: Value for scheme.headers does not match. Please report this to <https://github.com/pypa/pip/issues/9617>\n",
      "distutils: /opt/conda/include/python3.8/UNKNOWN\n",
      "sysconfig: /opt/conda/include/python3.8\u001b[0m\n",
      "\u001b[33mWARNING: Additional context:\n",
      "user = False\n",
      "home = None\n",
      "root = None\n",
      "prefix = None\u001b[0m\n",
      "Successfully installed lightgbm-3.2.1\n",
      "\u001b[33mWARNING: You are using pip version 21.1; however, version 21.1.2 is available.\n",
      "You should consider upgrading via the '/opt/conda/bin/python -m pip install --upgrade pip' command.\u001b[0m\n",
      "Note: you may need to restart the kernel to use updated packages.\n"
     ]
    }
   ],
   "source": [
    "pip install lightgbm"
   ]
  },
  {
   "cell_type": "code",
   "execution_count": null,
   "metadata": {
    "ExecuteTime": {
     "end_time": "2021-05-29T12:15:50.622768Z",
     "start_time": "2021-05-29T12:15:50.385Z"
    }
   },
   "outputs": [],
   "source": [
    "# 预测结果文件 ./pre_result.csv\n",
    "# eg /home/jovyan/xxxxx/project/pre_result.csv"
   ]
  },
  {
   "cell_type": "code",
   "execution_count": 6,
   "metadata": {
    "ExecuteTime": {
     "end_time": "2021-05-29T18:03:16.846977Z",
     "start_time": "2021-05-29T18:03:15.642367Z"
    }
   },
   "outputs": [
    {
     "name": "stdout",
     "output_type": "stream",
     "text": [
      "[LightGBM] [Warning] Auto-choosing col-wise multi-threading, the overhead of testing was 0.001127 seconds.\n",
      "You can set `force_col_wise=true` to remove the overhead.\n",
      "[LightGBM] [Info] Total Bins 5760\n",
      "[LightGBM] [Info] Number of data points in the train set: 7535, number of used features: 27\n",
      "[LightGBM] [Info] Start training from score 0.064101\n",
      "[1]\tvalid_0's auc: 0.807295\tvalid_0's l2: 0.0590225\n",
      "Training until validation scores don't improve for 5 rounds\n",
      "[2]\tvalid_0's auc: 0.815779\tvalid_0's l2: 0.0587955\n",
      "[3]\tvalid_0's auc: 0.825946\tvalid_0's l2: 0.0585722\n",
      "[4]\tvalid_0's auc: 0.830705\tvalid_0's l2: 0.0583508\n",
      "[5]\tvalid_0's auc: 0.821428\tvalid_0's l2: 0.0581428\n",
      "[6]\tvalid_0's auc: 0.827617\tvalid_0's l2: 0.0579638\n",
      "[7]\tvalid_0's auc: 0.832232\tvalid_0's l2: 0.0577825\n",
      "[8]\tvalid_0's auc: 0.833397\tvalid_0's l2: 0.0575958\n",
      "[9]\tvalid_0's auc: 0.834287\tvalid_0's l2: 0.0574195\n",
      "[10]\tvalid_0's auc: 0.834431\tvalid_0's l2: 0.0572504\n",
      "[11]\tvalid_0's auc: 0.826523\tvalid_0's l2: 0.0570568\n",
      "[12]\tvalid_0's auc: 0.825766\tvalid_0's l2: 0.0568665\n",
      "[13]\tvalid_0's auc: 0.821368\tvalid_0's l2: 0.0566765\n",
      "[14]\tvalid_0's auc: 0.822834\tvalid_0's l2: 0.0564918\n",
      "[15]\tvalid_0's auc: 0.822377\tvalid_0's l2: 0.0563087\n",
      "Early stopping, best iteration is:\n",
      "[10]\tvalid_0's auc: 0.834431\tvalid_0's l2: 0.0572504\n",
      "The rmse of prediction is: 0.23927052062685136\n",
      "finish\n"
     ]
    }
   ],
   "source": [
    "import lightgbm as lgb\n",
    "from sklearn.metrics import mean_squared_error\n",
    "from sklearn.datasets import load_iris\n",
    "from sklearn.model_selection import train_test_split\n",
    "import numpy as np\n",
    "import pandas as pd\n",
    "import torch\n",
    "data = pd.read_csv('./data_train10.csv')\n",
    "data.head()\n",
    "data_test = pd.read_csv('./data_test10.csv')\n",
    "\n",
    "X_res = data_test.iloc[:, 0:27]\n",
    "\n",
    "X = data.iloc[:, 0:27]\n",
    "Y = data.iloc[:, 27]\n",
    "\n",
    "from sklearn.model_selection import train_test_split\n",
    "\n",
    "X_train, X_test, Y_train, Y_test = train_test_split(X, Y, test_size=0.1)\n",
    "\n",
    "lgb_train = lgb.Dataset(X_train, Y_train)\n",
    "lgb_eval = lgb.Dataset(X_test, Y_test, reference=lgb_train)\n",
    "\n",
    "params = {\n",
    "    'task': 'train',\n",
    "    'boosting_type': 'gbdt',  # 设置提升类型\n",
    "    'objective': 'regression',  # 目标函数\n",
    "    'metric': {'l2', 'auc'},  # 评估函数\n",
    "    'num_leaves': 80,  # 叶子节点数\n",
    "    'max_depth': 6,    # 树的高度\n",
    "    'learning_rate': 0.005,  # 学习速率\n",
    "    'feature_fraction': 0.9,  # 建树的特征选择比例\n",
    "    'bagging_fraction': 0.8,  # 建树的样本采样比例\n",
    "    'bagging_freq': 5,  # k 意味着每 k 次迭代执行bagging\n",
    "    'verbose': 1  # <0 显示致命的, =0 显示错误 (警告), >0 显示信息\n",
    "}\n",
    "\n",
    "# 模型训练\n",
    "gbm = lgb.train(params, lgb_train, num_boost_round=20, valid_sets=lgb_eval, early_stopping_rounds=5)\n",
    "\n",
    "# 模型保存\n",
    "gbm.save_model('model.txt')\n",
    "\n",
    "# 模型加载\n",
    "gbm = lgb.Booster(model_file='model.txt')\n",
    "\n",
    "# 模型预测\n",
    "y_pred = gbm.predict(X_test, num_iteration=gbm.best_iteration)\n",
    "\n",
    "# 模型评估\n",
    "print('The rmse of prediction is:', mean_squared_error(Y_test, y_pred) ** 0.5)\n",
    "\n",
    "y_res = gbm.predict(X_res, num_iteration=gbm.best_iteration)\n",
    "\n",
    "cards = pd.read_csv(\"/data/acct_test.csv\")\n",
    "cards1 = cards['卡号']\n",
    "res = {\"卡号\": cards1, \"target\": y_res}\n",
    "res1 = pd.DataFrame(res)\n",
    "res1.to_csv(\"./pre_result.csv\", index=0)\n",
    "print(\"finish\")\n",
    "\n",
    "\n"
   ]
  },
  {
   "cell_type": "code",
   "execution_count": null,
   "metadata": {},
   "outputs": [],
   "source": []
  }
 ],
 "metadata": {
  "hide_input": false,
  "kernelspec": {
   "display_name": "Python 3",
   "language": "python",
   "name": "python3"
  },
  "language_info": {
   "codemirror_mode": {
    "name": "ipython",
    "version": 3
   },
   "file_extension": ".py",
   "mimetype": "text/x-python",
   "name": "python",
   "nbconvert_exporter": "python",
   "pygments_lexer": "ipython3",
   "version": "3.8.8"
  },
  "toc": {
   "base_numbering": 1,
   "nav_menu": {},
   "number_sections": true,
   "sideBar": true,
   "skip_h1_title": false,
   "title_cell": "Table of Contents",
   "title_sidebar": "Contents",
   "toc_cell": false,
   "toc_position": {},
   "toc_section_display": true,
   "toc_window_display": false
  }
 },
 "nbformat": 4,
 "nbformat_minor": 2
}
